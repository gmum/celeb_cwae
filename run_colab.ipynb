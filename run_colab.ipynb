{
 "cells": [
  {
   "cell_type": "code",
   "execution_count": 1,
   "metadata": {},
   "outputs": [
    {
     "name": "stdout",
     "output_type": "stream",
     "text": [
      "--2019-04-28 22:22:46--  https://github.com/mchuck/celeb_cwae/archive/master.zip\n",
      "Translacja github.com (github.com)... 140.82.118.4, 140.82.118.3\n",
      "Łączenie się z github.com (github.com)|140.82.118.4|:443... połączono.\n",
      "Żądanie HTTP wysłano, oczekiwanie na odpowiedź... 302 Found\n",
      "Lokalizacja: https://codeload.github.com/mchuck/celeb_cwae/zip/master [podążanie]\n",
      "--2019-04-28 22:22:46--  https://codeload.github.com/mchuck/celeb_cwae/zip/master\n",
      "Translacja codeload.github.com (codeload.github.com)... 192.30.253.121, 192.30.253.120\n",
      "Łączenie się z codeload.github.com (codeload.github.com)|192.30.253.121|:443... połączono.\n",
      "Żądanie HTTP wysłano, oczekiwanie na odpowiedź... 200 OK\n",
      "Długość: nieznana [application/zip]\n",
      "Zapis do: `master.zip'\n",
      "\n",
      "master.zip              [ <=>                ]   8,61K  --.-KB/s    w 0,1s     \n",
      "\n",
      "2019-04-28 22:22:47 (73,9 KB/s) - zapisano `master.zip' [8816]\n",
      "\n"
     ]
    }
   ],
   "source": [
    "!wget https://github.com/mchuck/celeb_cwae/archive/master.zip"
   ]
  },
  {
   "cell_type": "code",
   "execution_count": 2,
   "metadata": {},
   "outputs": [
    {
     "name": "stdout",
     "output_type": "stream",
     "text": [
      "Archive:  master.zip\r\n",
      "cef343e302014e72d8cc60837f8ff4ef17375f11\r\n",
      "   creating: celeb_cwae-master/\r\n",
      "  inflating: celeb_cwae-master/.gitignore  \r\n",
      "  inflating: celeb_cwae-master/README.md  \r\n",
      " extracting: celeb_cwae-master/__init__.py  \r\n",
      "  inflating: celeb_cwae-master/dataset_utils.py  \r\n",
      "  inflating: celeb_cwae-master/get_data.sh  \r\n",
      "  inflating: celeb_cwae-master/image_utils.py  \r\n",
      "  inflating: celeb_cwae-master/models.py  \r\n",
      "  inflating: celeb_cwae-master/run.ipynb  \r\n",
      "  inflating: celeb_cwae-master/run.py  \r\n",
      "  inflating: celeb_cwae-master/torch_utils.py  \r\n",
      "  inflating: celeb_cwae-master/train.py  \r\n"
     ]
    }
   ],
   "source": [
    "!unzip master.zip"
   ]
  },
  {
   "cell_type": "code",
   "execution_count": 3,
   "metadata": {},
   "outputs": [
    {
     "ename": "SyntaxError",
     "evalue": "invalid syntax (<ipython-input-3-117e3a2c7c4e>, line 1)",
     "output_type": "error",
     "traceback": [
      "\u001b[0;36m  File \u001b[0;32m\"<ipython-input-3-117e3a2c7c4e>\"\u001b[0;36m, line \u001b[0;32m1\u001b[0m\n\u001b[0;31m    from \"celeb_cwae-master\".run import init\u001b[0m\n\u001b[0m                           ^\u001b[0m\n\u001b[0;31mSyntaxError\u001b[0m\u001b[0;31m:\u001b[0m invalid syntax\n"
     ]
    }
   ],
   "source": [
    "!./celeb_cwae-master"
   ]
  }
 ],
 "metadata": {
  "kernelspec": {
   "display_name": "Python 3",
   "language": "python",
   "name": "python3"
  },
  "language_info": {
   "codemirror_mode": {
    "name": "ipython",
    "version": 3
   },
   "file_extension": ".py",
   "mimetype": "text/x-python",
   "name": "python",
   "nbconvert_exporter": "python",
   "pygments_lexer": "ipython3",
   "version": "3.6.8"
  }
 },
 "nbformat": 4,
 "nbformat_minor": 2
}
